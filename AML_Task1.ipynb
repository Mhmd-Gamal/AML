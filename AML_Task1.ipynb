{
  "cells": [
    {
      "cell_type": "markdown",
      "metadata": {
        "id": "GRy6zWS0NE0Y"
      },
      "source": [
        "# Task 1"
      ]
    },
    {
      "cell_type": "code",
      "execution_count": 67,
      "metadata": {
        "id": "IxRsXylP-XU1"
      },
      "outputs": [],
      "source": [
        "import os\n",
        "import random\n",
        "import numpy as np\n",
        "import pandas as pd\n",
        "from math import sqrt\n",
        "\n",
        "from sklearn.metrics import mean_squared_error\n",
        "from sklearn.preprocessing import StandardScaler\n",
        "from sklearn.model_selection import train_test_split\n",
        "#from sklearn.impute import SimpleImputer\n",
        "\n",
        "\n",
        "import torch\n",
        "import torch.nn as nn\n",
        "import torch.utils.data\n",
        "import torch.optim as optim\n",
        "from torchsummary import summary\n",
        "import torch.nn.functional as F\n",
        "from torch.utils.data import TensorDataset, DataLoader"
      ]
    },
    {
      "cell_type": "code",
      "execution_count": 3,
      "metadata": {
        "id": "gX5R4a9GgESz",
        "colab": {
          "base_uri": "https://localhost:8080/"
        },
        "outputId": "332d784e-4ce2-4d95-b6a0-7241b59ce366"
      },
      "outputs": [
        {
          "output_type": "stream",
          "name": "stdout",
          "text": [
            "Archive:  data_transaction.zip\n",
            "  inflating: data_transaction.csv    \n",
            "Archive:  data_identity.zip\n",
            "  inflating: data_identity.csv       \n"
          ]
        }
      ],
      "source": [
        "!unzip data_transaction.zip\n",
        "!unzip data_identity.zip"
      ]
    },
    {
      "cell_type": "code",
      "execution_count": 4,
      "metadata": {
        "id": "rufzddlXhQA1"
      },
      "outputs": [],
      "source": [
        "#data_trans = pd.read_csv(\"C:\\\\Users\\\\User\\\\Downloads\\\\IU\\\\AML\\\\Assignments\\\\A2\\ieee-fraud-detection\\data_transaction.csv\")\n",
        "#data_identity = pd.read_csv(\"C:\\\\Users\\\\User\\\\Downloads\\\\IU\\\\AML\\\\Assignments\\\\A2\\ieee-fraud-detection\\data_identity.csv\")\n",
        "data_trans = pd.read_csv(\"data_transaction.csv\")\n",
        "data_identity = pd.read_csv(\"data_identity.csv\")\n",
        "\n"
      ]
    },
    {
      "cell_type": "code",
      "execution_count": 5,
      "metadata": {
        "colab": {
          "base_uri": "https://localhost:8080/"
        },
        "id": "YfHPdvLpducc",
        "outputId": "0deb1cd4-32b2-4293-f0cf-882bf147956e"
      },
      "outputs": [
        {
          "output_type": "stream",
          "name": "stdout",
          "text": [
            "data transaction shape (590540, 394)\n",
            "data identity shape (144233, 41)\n"
          ]
        }
      ],
      "source": [
        "print(\"data transaction shape\", data_trans.shape)\n",
        "print(\"data identity shape\", data_identity.shape)"
      ]
    },
    {
      "cell_type": "markdown",
      "metadata": {
        "id": "N0VC5Xv7S5dw"
      },
      "source": [
        "#### Prepare Data"
      ]
    },
    {
      "cell_type": "code",
      "execution_count": 6,
      "metadata": {
        "colab": {
          "base_uri": "https://localhost:8080/",
          "height": 421
        },
        "id": "RQKbMwzwhXQw",
        "outputId": "e28df8c7-b466-45b0-dd2c-32b855722b2d"
      },
      "outputs": [
        {
          "output_type": "execute_result",
          "data": {
            "text/plain": [
              "   TransactionID  isFraud  TransactionDT  TransactionAmt ProductCD  card1  \\\n",
              "0        2987004        0          86506          50.000         H   4497   \n",
              "1        2987008        0          86535          15.000         H   2803   \n",
              "2        2987010        0          86549          75.887         C  16496   \n",
              "3        2987011        0          86555          16.495         C   4461   \n",
              "4        2987016        0          86620          30.000         H   1790   \n",
              "\n",
              "   card2  card3       card4  card5  ...                id_31  id_32  \\\n",
              "0  514.0  150.0  mastercard  102.0  ...  samsung browser 6.2   32.0   \n",
              "1  100.0  150.0        visa  226.0  ...   mobile safari 11.0   32.0   \n",
              "2  352.0  117.0  mastercard  134.0  ...          chrome 62.0    NaN   \n",
              "3  375.0  185.0  mastercard  224.0  ...          chrome 62.0    NaN   \n",
              "4  555.0  150.0        visa  226.0  ...          chrome 62.0   24.0   \n",
              "\n",
              "       id_33           id_34  id_35 id_36 id_37  id_38  DeviceType  \\\n",
              "0  2220x1080  match_status:2      T     F     T      T      mobile   \n",
              "1   1334x750  match_status:1      T     F     F      T      mobile   \n",
              "2        NaN             NaN      F     F     T      T     desktop   \n",
              "3        NaN             NaN      F     F     T      T     desktop   \n",
              "4   1280x800  match_status:2      T     F     T      T     desktop   \n",
              "\n",
              "                      DeviceInfo  \n",
              "0  SAMSUNG SM-G892A Build/NRD90M  \n",
              "1                     iOS Device  \n",
              "2                        Windows  \n",
              "3                            NaN  \n",
              "4                          MacOS  \n",
              "\n",
              "[5 rows x 434 columns]"
            ],
            "text/html": [
              "\n",
              "  <div id=\"df-d3a7bc4d-a5c8-47eb-8e48-9f78664352bd\">\n",
              "    <div class=\"colab-df-container\">\n",
              "      <div>\n",
              "<style scoped>\n",
              "    .dataframe tbody tr th:only-of-type {\n",
              "        vertical-align: middle;\n",
              "    }\n",
              "\n",
              "    .dataframe tbody tr th {\n",
              "        vertical-align: top;\n",
              "    }\n",
              "\n",
              "    .dataframe thead th {\n",
              "        text-align: right;\n",
              "    }\n",
              "</style>\n",
              "<table border=\"1\" class=\"dataframe\">\n",
              "  <thead>\n",
              "    <tr style=\"text-align: right;\">\n",
              "      <th></th>\n",
              "      <th>TransactionID</th>\n",
              "      <th>isFraud</th>\n",
              "      <th>TransactionDT</th>\n",
              "      <th>TransactionAmt</th>\n",
              "      <th>ProductCD</th>\n",
              "      <th>card1</th>\n",
              "      <th>card2</th>\n",
              "      <th>card3</th>\n",
              "      <th>card4</th>\n",
              "      <th>card5</th>\n",
              "      <th>...</th>\n",
              "      <th>id_31</th>\n",
              "      <th>id_32</th>\n",
              "      <th>id_33</th>\n",
              "      <th>id_34</th>\n",
              "      <th>id_35</th>\n",
              "      <th>id_36</th>\n",
              "      <th>id_37</th>\n",
              "      <th>id_38</th>\n",
              "      <th>DeviceType</th>\n",
              "      <th>DeviceInfo</th>\n",
              "    </tr>\n",
              "  </thead>\n",
              "  <tbody>\n",
              "    <tr>\n",
              "      <th>0</th>\n",
              "      <td>2987004</td>\n",
              "      <td>0</td>\n",
              "      <td>86506</td>\n",
              "      <td>50.000</td>\n",
              "      <td>H</td>\n",
              "      <td>4497</td>\n",
              "      <td>514.0</td>\n",
              "      <td>150.0</td>\n",
              "      <td>mastercard</td>\n",
              "      <td>102.0</td>\n",
              "      <td>...</td>\n",
              "      <td>samsung browser 6.2</td>\n",
              "      <td>32.0</td>\n",
              "      <td>2220x1080</td>\n",
              "      <td>match_status:2</td>\n",
              "      <td>T</td>\n",
              "      <td>F</td>\n",
              "      <td>T</td>\n",
              "      <td>T</td>\n",
              "      <td>mobile</td>\n",
              "      <td>SAMSUNG SM-G892A Build/NRD90M</td>\n",
              "    </tr>\n",
              "    <tr>\n",
              "      <th>1</th>\n",
              "      <td>2987008</td>\n",
              "      <td>0</td>\n",
              "      <td>86535</td>\n",
              "      <td>15.000</td>\n",
              "      <td>H</td>\n",
              "      <td>2803</td>\n",
              "      <td>100.0</td>\n",
              "      <td>150.0</td>\n",
              "      <td>visa</td>\n",
              "      <td>226.0</td>\n",
              "      <td>...</td>\n",
              "      <td>mobile safari 11.0</td>\n",
              "      <td>32.0</td>\n",
              "      <td>1334x750</td>\n",
              "      <td>match_status:1</td>\n",
              "      <td>T</td>\n",
              "      <td>F</td>\n",
              "      <td>F</td>\n",
              "      <td>T</td>\n",
              "      <td>mobile</td>\n",
              "      <td>iOS Device</td>\n",
              "    </tr>\n",
              "    <tr>\n",
              "      <th>2</th>\n",
              "      <td>2987010</td>\n",
              "      <td>0</td>\n",
              "      <td>86549</td>\n",
              "      <td>75.887</td>\n",
              "      <td>C</td>\n",
              "      <td>16496</td>\n",
              "      <td>352.0</td>\n",
              "      <td>117.0</td>\n",
              "      <td>mastercard</td>\n",
              "      <td>134.0</td>\n",
              "      <td>...</td>\n",
              "      <td>chrome 62.0</td>\n",
              "      <td>NaN</td>\n",
              "      <td>NaN</td>\n",
              "      <td>NaN</td>\n",
              "      <td>F</td>\n",
              "      <td>F</td>\n",
              "      <td>T</td>\n",
              "      <td>T</td>\n",
              "      <td>desktop</td>\n",
              "      <td>Windows</td>\n",
              "    </tr>\n",
              "    <tr>\n",
              "      <th>3</th>\n",
              "      <td>2987011</td>\n",
              "      <td>0</td>\n",
              "      <td>86555</td>\n",
              "      <td>16.495</td>\n",
              "      <td>C</td>\n",
              "      <td>4461</td>\n",
              "      <td>375.0</td>\n",
              "      <td>185.0</td>\n",
              "      <td>mastercard</td>\n",
              "      <td>224.0</td>\n",
              "      <td>...</td>\n",
              "      <td>chrome 62.0</td>\n",
              "      <td>NaN</td>\n",
              "      <td>NaN</td>\n",
              "      <td>NaN</td>\n",
              "      <td>F</td>\n",
              "      <td>F</td>\n",
              "      <td>T</td>\n",
              "      <td>T</td>\n",
              "      <td>desktop</td>\n",
              "      <td>NaN</td>\n",
              "    </tr>\n",
              "    <tr>\n",
              "      <th>4</th>\n",
              "      <td>2987016</td>\n",
              "      <td>0</td>\n",
              "      <td>86620</td>\n",
              "      <td>30.000</td>\n",
              "      <td>H</td>\n",
              "      <td>1790</td>\n",
              "      <td>555.0</td>\n",
              "      <td>150.0</td>\n",
              "      <td>visa</td>\n",
              "      <td>226.0</td>\n",
              "      <td>...</td>\n",
              "      <td>chrome 62.0</td>\n",
              "      <td>24.0</td>\n",
              "      <td>1280x800</td>\n",
              "      <td>match_status:2</td>\n",
              "      <td>T</td>\n",
              "      <td>F</td>\n",
              "      <td>T</td>\n",
              "      <td>T</td>\n",
              "      <td>desktop</td>\n",
              "      <td>MacOS</td>\n",
              "    </tr>\n",
              "  </tbody>\n",
              "</table>\n",
              "<p>5 rows × 434 columns</p>\n",
              "</div>\n",
              "      <button class=\"colab-df-convert\" onclick=\"convertToInteractive('df-d3a7bc4d-a5c8-47eb-8e48-9f78664352bd')\"\n",
              "              title=\"Convert this dataframe to an interactive table.\"\n",
              "              style=\"display:none;\">\n",
              "        \n",
              "  <svg xmlns=\"http://www.w3.org/2000/svg\" height=\"24px\"viewBox=\"0 0 24 24\"\n",
              "       width=\"24px\">\n",
              "    <path d=\"M0 0h24v24H0V0z\" fill=\"none\"/>\n",
              "    <path d=\"M18.56 5.44l.94 2.06.94-2.06 2.06-.94-2.06-.94-.94-2.06-.94 2.06-2.06.94zm-11 1L8.5 8.5l.94-2.06 2.06-.94-2.06-.94L8.5 2.5l-.94 2.06-2.06.94zm10 10l.94 2.06.94-2.06 2.06-.94-2.06-.94-.94-2.06-.94 2.06-2.06.94z\"/><path d=\"M17.41 7.96l-1.37-1.37c-.4-.4-.92-.59-1.43-.59-.52 0-1.04.2-1.43.59L10.3 9.45l-7.72 7.72c-.78.78-.78 2.05 0 2.83L4 21.41c.39.39.9.59 1.41.59.51 0 1.02-.2 1.41-.59l7.78-7.78 2.81-2.81c.8-.78.8-2.07 0-2.86zM5.41 20L4 18.59l7.72-7.72 1.47 1.35L5.41 20z\"/>\n",
              "  </svg>\n",
              "      </button>\n",
              "      \n",
              "  <style>\n",
              "    .colab-df-container {\n",
              "      display:flex;\n",
              "      flex-wrap:wrap;\n",
              "      gap: 12px;\n",
              "    }\n",
              "\n",
              "    .colab-df-convert {\n",
              "      background-color: #E8F0FE;\n",
              "      border: none;\n",
              "      border-radius: 50%;\n",
              "      cursor: pointer;\n",
              "      display: none;\n",
              "      fill: #1967D2;\n",
              "      height: 32px;\n",
              "      padding: 0 0 0 0;\n",
              "      width: 32px;\n",
              "    }\n",
              "\n",
              "    .colab-df-convert:hover {\n",
              "      background-color: #E2EBFA;\n",
              "      box-shadow: 0px 1px 2px rgba(60, 64, 67, 0.3), 0px 1px 3px 1px rgba(60, 64, 67, 0.15);\n",
              "      fill: #174EA6;\n",
              "    }\n",
              "\n",
              "    [theme=dark] .colab-df-convert {\n",
              "      background-color: #3B4455;\n",
              "      fill: #D2E3FC;\n",
              "    }\n",
              "\n",
              "    [theme=dark] .colab-df-convert:hover {\n",
              "      background-color: #434B5C;\n",
              "      box-shadow: 0px 1px 3px 1px rgba(0, 0, 0, 0.15);\n",
              "      filter: drop-shadow(0px 1px 2px rgba(0, 0, 0, 0.3));\n",
              "      fill: #FFFFFF;\n",
              "    }\n",
              "  </style>\n",
              "\n",
              "      <script>\n",
              "        const buttonEl =\n",
              "          document.querySelector('#df-d3a7bc4d-a5c8-47eb-8e48-9f78664352bd button.colab-df-convert');\n",
              "        buttonEl.style.display =\n",
              "          google.colab.kernel.accessAllowed ? 'block' : 'none';\n",
              "\n",
              "        async function convertToInteractive(key) {\n",
              "          const element = document.querySelector('#df-d3a7bc4d-a5c8-47eb-8e48-9f78664352bd');\n",
              "          const dataTable =\n",
              "            await google.colab.kernel.invokeFunction('convertToInteractive',\n",
              "                                                     [key], {});\n",
              "          if (!dataTable) return;\n",
              "\n",
              "          const docLinkHtml = 'Like what you see? Visit the ' +\n",
              "            '<a target=\"_blank\" href=https://colab.research.google.com/notebooks/data_table.ipynb>data table notebook</a>'\n",
              "            + ' to learn more about interactive tables.';\n",
              "          element.innerHTML = '';\n",
              "          dataTable['output_type'] = 'display_data';\n",
              "          await google.colab.output.renderOutput(dataTable, element);\n",
              "          const docLink = document.createElement('div');\n",
              "          docLink.innerHTML = docLinkHtml;\n",
              "          element.appendChild(docLink);\n",
              "        }\n",
              "      </script>\n",
              "    </div>\n",
              "  </div>\n",
              "  "
            ]
          },
          "metadata": {},
          "execution_count": 6
        }
      ],
      "source": [
        "#df = data_trans.merge(data_identity, how='left', left_index=True, right_index=True)\n",
        "# Merge the tables \n",
        "df = pd.merge(left=data_trans, right=data_identity, left_on='TransactionID', right_on='TransactionID')\n",
        "\n",
        "df.head()"
      ]
    },
    {
      "cell_type": "code",
      "source": [
        "del data_trans\n",
        "del data_identity"
      ],
      "metadata": {
        "id": "uyEzG77q0QX0"
      },
      "execution_count": 7,
      "outputs": []
    },
    {
      "cell_type": "code",
      "execution_count": 8,
      "metadata": {
        "colab": {
          "base_uri": "https://localhost:8080/"
        },
        "id": "YVC_TJsUiszx",
        "outputId": "0385b825-d14a-4240-dfae-c6e20689cad3"
      },
      "outputs": [
        {
          "output_type": "execute_result",
          "data": {
            "text/plain": [
              "(144233, 434)"
            ]
          },
          "metadata": {},
          "execution_count": 8
        }
      ],
      "source": [
        "df.shape "
      ]
    },
    {
      "cell_type": "code",
      "execution_count": 9,
      "metadata": {
        "id": "x5SiRlF-gES2"
      },
      "outputs": [],
      "source": [
        "list_cat = list(df.select_dtypes('object').columns.values)"
      ]
    },
    {
      "cell_type": "code",
      "execution_count": 10,
      "metadata": {
        "id": "vQ5hK2cUgES3"
      },
      "outputs": [],
      "source": [
        "# Remove the categorical data\n",
        "df.drop(df[list_cat], axis = 1, inplace = True)"
      ]
    },
    {
      "cell_type": "code",
      "execution_count": 11,
      "metadata": {
        "colab": {
          "base_uri": "https://localhost:8080/"
        },
        "id": "XmgHtht9gES3",
        "outputId": "3fe472ed-fe7f-4496-a2b9-ee75e9da2f76"
      },
      "outputs": [
        {
          "output_type": "execute_result",
          "data": {
            "text/plain": [
              "(144233, 403)"
            ]
          },
          "metadata": {},
          "execution_count": 11
        }
      ],
      "source": [
        "df.shape"
      ]
    },
    {
      "cell_type": "code",
      "execution_count": 12,
      "metadata": {
        "id": "NqFBSvjafLhM"
      },
      "outputs": [],
      "source": [
        "# Remove empty columns\n",
        "emp = [col for col in df.columns if df[col].isnull().values.all()]\n",
        "df.drop(df[emp], axis = 1, inplace = True)"
      ]
    },
    {
      "cell_type": "code",
      "source": [
        "df.shape"
      ],
      "metadata": {
        "colab": {
          "base_uri": "https://localhost:8080/"
        },
        "id": "I15lqxxJMuXc",
        "outputId": "63d17074-dc6f-4163-b37d-6d67e3aebce3"
      },
      "execution_count": 13,
      "outputs": [
        {
          "output_type": "execute_result",
          "data": {
            "text/plain": [
              "(144233, 390)"
            ]
          },
          "metadata": {},
          "execution_count": 13
        }
      ]
    },
    {
      "cell_type": "code",
      "source": [
        "y = df['isFraud'].to_numpy()\n",
        "df.drop('isFraud', axis = 1, inplace = True)"
      ],
      "metadata": {
        "id": "M_-5DGD49qEU"
      },
      "execution_count": 14,
      "outputs": []
    },
    {
      "cell_type": "markdown",
      "metadata": {
        "id": "7ODszN1kV_hu"
      },
      "source": [
        "#### Split the dataset"
      ]
    },
    {
      "cell_type": "code",
      "execution_count": null,
      "metadata": {
        "colab": {
          "base_uri": "https://localhost:8080/"
        },
        "id": "QGm8OjeOe26X",
        "outputId": "f0522a13-ff01-4d83-b773-2dadae8863e1"
      },
      "outputs": [
        {
          "output_type": "execute_result",
          "data": {
            "text/plain": [
              "(144233, 390)"
            ]
          },
          "metadata": {},
          "execution_count": 18
        }
      ],
      "source": [
        "#df_imp.shape"
      ]
    },
    {
      "cell_type": "code",
      "execution_count": null,
      "metadata": {
        "colab": {
          "base_uri": "https://localhost:8080/",
          "height": 299
        },
        "id": "Y3sApn8wdW0G",
        "outputId": "dc4d0451-fc4a-4e79-b05c-9f42ce7799f9"
      },
      "outputs": [
        {
          "output_type": "execute_result",
          "data": {
            "text/plain": [
              "   TransactionID  isFraud  TransactionDT  TransactionAmt    card1  card2  \\\n",
              "0      2987004.0      0.0        86506.0          50.000   4497.0  514.0   \n",
              "1      2987008.0      0.0        86535.0          15.000   2803.0  100.0   \n",
              "2      2987010.0      0.0        86549.0          75.887  16496.0  352.0   \n",
              "3      2987011.0      0.0        86555.0          16.495   4461.0  375.0   \n",
              "4      2987016.0      0.0        86620.0          30.000   1790.0  555.0   \n",
              "\n",
              "   card3  card5       addr1      addr2  ...  id_17      id_18  id_19  id_20  \\\n",
              "0  150.0  102.0  420.000000  87.000000  ...  166.0  14.237337  542.0  144.0   \n",
              "1  150.0  226.0  337.000000  87.000000  ...  166.0  14.237337  621.0  500.0   \n",
              "2  117.0  134.0  296.845058  86.198088  ...  121.0  14.237337  410.0  142.0   \n",
              "3  185.0  224.0  296.845058  86.198088  ...  225.0  14.237337  176.0  507.0   \n",
              "4  150.0  226.0  170.000000  87.000000  ...  166.0  15.000000  529.0  575.0   \n",
              "\n",
              "       id_21      id_22      id_24       id_25       id_26      id_32  \n",
              "0  368.26982  16.002708  12.800927  329.608924  149.070308  32.000000  \n",
              "1  368.26982  16.002708  12.800927  329.608924  149.070308  32.000000  \n",
              "2  368.26982  16.002708  12.800927  329.608924  149.070308  26.508597  \n",
              "3  368.26982  16.002708  12.800927  329.608924  149.070308  26.508597  \n",
              "4  368.26982  16.002708  12.800927  329.608924  149.070308  24.000000  \n",
              "\n",
              "[5 rows x 390 columns]"
            ],
            "text/html": [
              "\n",
              "  <div id=\"df-4f2549e5-032f-4cbf-aa1c-845c4044e894\">\n",
              "    <div class=\"colab-df-container\">\n",
              "      <div>\n",
              "<style scoped>\n",
              "    .dataframe tbody tr th:only-of-type {\n",
              "        vertical-align: middle;\n",
              "    }\n",
              "\n",
              "    .dataframe tbody tr th {\n",
              "        vertical-align: top;\n",
              "    }\n",
              "\n",
              "    .dataframe thead th {\n",
              "        text-align: right;\n",
              "    }\n",
              "</style>\n",
              "<table border=\"1\" class=\"dataframe\">\n",
              "  <thead>\n",
              "    <tr style=\"text-align: right;\">\n",
              "      <th></th>\n",
              "      <th>TransactionID</th>\n",
              "      <th>isFraud</th>\n",
              "      <th>TransactionDT</th>\n",
              "      <th>TransactionAmt</th>\n",
              "      <th>card1</th>\n",
              "      <th>card2</th>\n",
              "      <th>card3</th>\n",
              "      <th>card5</th>\n",
              "      <th>addr1</th>\n",
              "      <th>addr2</th>\n",
              "      <th>...</th>\n",
              "      <th>id_17</th>\n",
              "      <th>id_18</th>\n",
              "      <th>id_19</th>\n",
              "      <th>id_20</th>\n",
              "      <th>id_21</th>\n",
              "      <th>id_22</th>\n",
              "      <th>id_24</th>\n",
              "      <th>id_25</th>\n",
              "      <th>id_26</th>\n",
              "      <th>id_32</th>\n",
              "    </tr>\n",
              "  </thead>\n",
              "  <tbody>\n",
              "    <tr>\n",
              "      <th>0</th>\n",
              "      <td>2987004.0</td>\n",
              "      <td>0.0</td>\n",
              "      <td>86506.0</td>\n",
              "      <td>50.000</td>\n",
              "      <td>4497.0</td>\n",
              "      <td>514.0</td>\n",
              "      <td>150.0</td>\n",
              "      <td>102.0</td>\n",
              "      <td>420.000000</td>\n",
              "      <td>87.000000</td>\n",
              "      <td>...</td>\n",
              "      <td>166.0</td>\n",
              "      <td>14.237337</td>\n",
              "      <td>542.0</td>\n",
              "      <td>144.0</td>\n",
              "      <td>368.26982</td>\n",
              "      <td>16.002708</td>\n",
              "      <td>12.800927</td>\n",
              "      <td>329.608924</td>\n",
              "      <td>149.070308</td>\n",
              "      <td>32.000000</td>\n",
              "    </tr>\n",
              "    <tr>\n",
              "      <th>1</th>\n",
              "      <td>2987008.0</td>\n",
              "      <td>0.0</td>\n",
              "      <td>86535.0</td>\n",
              "      <td>15.000</td>\n",
              "      <td>2803.0</td>\n",
              "      <td>100.0</td>\n",
              "      <td>150.0</td>\n",
              "      <td>226.0</td>\n",
              "      <td>337.000000</td>\n",
              "      <td>87.000000</td>\n",
              "      <td>...</td>\n",
              "      <td>166.0</td>\n",
              "      <td>14.237337</td>\n",
              "      <td>621.0</td>\n",
              "      <td>500.0</td>\n",
              "      <td>368.26982</td>\n",
              "      <td>16.002708</td>\n",
              "      <td>12.800927</td>\n",
              "      <td>329.608924</td>\n",
              "      <td>149.070308</td>\n",
              "      <td>32.000000</td>\n",
              "    </tr>\n",
              "    <tr>\n",
              "      <th>2</th>\n",
              "      <td>2987010.0</td>\n",
              "      <td>0.0</td>\n",
              "      <td>86549.0</td>\n",
              "      <td>75.887</td>\n",
              "      <td>16496.0</td>\n",
              "      <td>352.0</td>\n",
              "      <td>117.0</td>\n",
              "      <td>134.0</td>\n",
              "      <td>296.845058</td>\n",
              "      <td>86.198088</td>\n",
              "      <td>...</td>\n",
              "      <td>121.0</td>\n",
              "      <td>14.237337</td>\n",
              "      <td>410.0</td>\n",
              "      <td>142.0</td>\n",
              "      <td>368.26982</td>\n",
              "      <td>16.002708</td>\n",
              "      <td>12.800927</td>\n",
              "      <td>329.608924</td>\n",
              "      <td>149.070308</td>\n",
              "      <td>26.508597</td>\n",
              "    </tr>\n",
              "    <tr>\n",
              "      <th>3</th>\n",
              "      <td>2987011.0</td>\n",
              "      <td>0.0</td>\n",
              "      <td>86555.0</td>\n",
              "      <td>16.495</td>\n",
              "      <td>4461.0</td>\n",
              "      <td>375.0</td>\n",
              "      <td>185.0</td>\n",
              "      <td>224.0</td>\n",
              "      <td>296.845058</td>\n",
              "      <td>86.198088</td>\n",
              "      <td>...</td>\n",
              "      <td>225.0</td>\n",
              "      <td>14.237337</td>\n",
              "      <td>176.0</td>\n",
              "      <td>507.0</td>\n",
              "      <td>368.26982</td>\n",
              "      <td>16.002708</td>\n",
              "      <td>12.800927</td>\n",
              "      <td>329.608924</td>\n",
              "      <td>149.070308</td>\n",
              "      <td>26.508597</td>\n",
              "    </tr>\n",
              "    <tr>\n",
              "      <th>4</th>\n",
              "      <td>2987016.0</td>\n",
              "      <td>0.0</td>\n",
              "      <td>86620.0</td>\n",
              "      <td>30.000</td>\n",
              "      <td>1790.0</td>\n",
              "      <td>555.0</td>\n",
              "      <td>150.0</td>\n",
              "      <td>226.0</td>\n",
              "      <td>170.000000</td>\n",
              "      <td>87.000000</td>\n",
              "      <td>...</td>\n",
              "      <td>166.0</td>\n",
              "      <td>15.000000</td>\n",
              "      <td>529.0</td>\n",
              "      <td>575.0</td>\n",
              "      <td>368.26982</td>\n",
              "      <td>16.002708</td>\n",
              "      <td>12.800927</td>\n",
              "      <td>329.608924</td>\n",
              "      <td>149.070308</td>\n",
              "      <td>24.000000</td>\n",
              "    </tr>\n",
              "  </tbody>\n",
              "</table>\n",
              "<p>5 rows × 390 columns</p>\n",
              "</div>\n",
              "      <button class=\"colab-df-convert\" onclick=\"convertToInteractive('df-4f2549e5-032f-4cbf-aa1c-845c4044e894')\"\n",
              "              title=\"Convert this dataframe to an interactive table.\"\n",
              "              style=\"display:none;\">\n",
              "        \n",
              "  <svg xmlns=\"http://www.w3.org/2000/svg\" height=\"24px\"viewBox=\"0 0 24 24\"\n",
              "       width=\"24px\">\n",
              "    <path d=\"M0 0h24v24H0V0z\" fill=\"none\"/>\n",
              "    <path d=\"M18.56 5.44l.94 2.06.94-2.06 2.06-.94-2.06-.94-.94-2.06-.94 2.06-2.06.94zm-11 1L8.5 8.5l.94-2.06 2.06-.94-2.06-.94L8.5 2.5l-.94 2.06-2.06.94zm10 10l.94 2.06.94-2.06 2.06-.94-2.06-.94-.94-2.06-.94 2.06-2.06.94z\"/><path d=\"M17.41 7.96l-1.37-1.37c-.4-.4-.92-.59-1.43-.59-.52 0-1.04.2-1.43.59L10.3 9.45l-7.72 7.72c-.78.78-.78 2.05 0 2.83L4 21.41c.39.39.9.59 1.41.59.51 0 1.02-.2 1.41-.59l7.78-7.78 2.81-2.81c.8-.78.8-2.07 0-2.86zM5.41 20L4 18.59l7.72-7.72 1.47 1.35L5.41 20z\"/>\n",
              "  </svg>\n",
              "      </button>\n",
              "      \n",
              "  <style>\n",
              "    .colab-df-container {\n",
              "      display:flex;\n",
              "      flex-wrap:wrap;\n",
              "      gap: 12px;\n",
              "    }\n",
              "\n",
              "    .colab-df-convert {\n",
              "      background-color: #E8F0FE;\n",
              "      border: none;\n",
              "      border-radius: 50%;\n",
              "      cursor: pointer;\n",
              "      display: none;\n",
              "      fill: #1967D2;\n",
              "      height: 32px;\n",
              "      padding: 0 0 0 0;\n",
              "      width: 32px;\n",
              "    }\n",
              "\n",
              "    .colab-df-convert:hover {\n",
              "      background-color: #E2EBFA;\n",
              "      box-shadow: 0px 1px 2px rgba(60, 64, 67, 0.3), 0px 1px 3px 1px rgba(60, 64, 67, 0.15);\n",
              "      fill: #174EA6;\n",
              "    }\n",
              "\n",
              "    [theme=dark] .colab-df-convert {\n",
              "      background-color: #3B4455;\n",
              "      fill: #D2E3FC;\n",
              "    }\n",
              "\n",
              "    [theme=dark] .colab-df-convert:hover {\n",
              "      background-color: #434B5C;\n",
              "      box-shadow: 0px 1px 3px 1px rgba(0, 0, 0, 0.15);\n",
              "      filter: drop-shadow(0px 1px 2px rgba(0, 0, 0, 0.3));\n",
              "      fill: #FFFFFF;\n",
              "    }\n",
              "  </style>\n",
              "\n",
              "      <script>\n",
              "        const buttonEl =\n",
              "          document.querySelector('#df-4f2549e5-032f-4cbf-aa1c-845c4044e894 button.colab-df-convert');\n",
              "        buttonEl.style.display =\n",
              "          google.colab.kernel.accessAllowed ? 'block' : 'none';\n",
              "\n",
              "        async function convertToInteractive(key) {\n",
              "          const element = document.querySelector('#df-4f2549e5-032f-4cbf-aa1c-845c4044e894');\n",
              "          const dataTable =\n",
              "            await google.colab.kernel.invokeFunction('convertToInteractive',\n",
              "                                                     [key], {});\n",
              "          if (!dataTable) return;\n",
              "\n",
              "          const docLinkHtml = 'Like what you see? Visit the ' +\n",
              "            '<a target=\"_blank\" href=https://colab.research.google.com/notebooks/data_table.ipynb>data table notebook</a>'\n",
              "            + ' to learn more about interactive tables.';\n",
              "          element.innerHTML = '';\n",
              "          dataTable['output_type'] = 'display_data';\n",
              "          await google.colab.output.renderOutput(dataTable, element);\n",
              "          const docLink = document.createElement('div');\n",
              "          docLink.innerHTML = docLinkHtml;\n",
              "          element.appendChild(docLink);\n",
              "        }\n",
              "      </script>\n",
              "    </div>\n",
              "  </div>\n",
              "  "
            ]
          },
          "metadata": {},
          "execution_count": 19
        }
      ],
      "source": [
        "df.head()"
      ]
    },
    {
      "cell_type": "code",
      "source": [
        "df.isnull().sum().sum()"
      ],
      "metadata": {
        "colab": {
          "base_uri": "https://localhost:8080/"
        },
        "id": "MpnYEmIJ4Wy5",
        "outputId": "834e7594-4f5a-4adf-a54d-6bdde1b1ed97"
      },
      "execution_count": 15,
      "outputs": [
        {
          "output_type": "execute_result",
          "data": {
            "text/plain": [
              "13142930"
            ]
          },
          "metadata": {},
          "execution_count": 15
        }
      ]
    },
    {
      "cell_type": "code",
      "execution_count": 16,
      "metadata": {
        "id": "GhSCJWzmdHHk"
      },
      "outputs": [],
      "source": [
        "df_clear = df.notna().astype(\"int\").to_numpy()\n"
      ]
    },
    {
      "cell_type": "code",
      "source": [
        "mask = df.fillna(0)"
      ],
      "metadata": {
        "id": "kGmm9IRj428N"
      },
      "execution_count": 17,
      "outputs": []
    },
    {
      "cell_type": "code",
      "source": [
        "sc = StandardScaler()\n",
        "mask = sc.fit_transform(mask.to_numpy())"
      ],
      "metadata": {
        "id": "nZVTaTqY6fT3"
      },
      "execution_count": 18,
      "outputs": []
    },
    {
      "cell_type": "code",
      "source": [
        "full_data = np.hstack([mask, df_clear])"
      ],
      "metadata": {
        "id": "Ot79D8Yp7kk3"
      },
      "execution_count": 42,
      "outputs": []
    },
    {
      "cell_type": "code",
      "source": [
        "full_data.shape"
      ],
      "metadata": {
        "colab": {
          "base_uri": "https://localhost:8080/"
        },
        "id": "WKUybr6U7knw",
        "outputId": "5abbfcfd-c68f-4c8c-fbb1-49334115b0ec"
      },
      "execution_count": 43,
      "outputs": [
        {
          "output_type": "execute_result",
          "data": {
            "text/plain": [
              "(144233, 778)"
            ]
          },
          "metadata": {},
          "execution_count": 43
        }
      ]
    },
    {
      "cell_type": "code",
      "execution_count": 44,
      "metadata": {
        "id": "8Gr80_ZpWMoS"
      },
      "outputs": [],
      "source": [
        "#Splitting \n",
        "X_train, X_test, y_train, y_test = train_test_split( full_data, y, test_size=0.2, random_state=123)"
      ]
    },
    {
      "cell_type": "code",
      "source": [
        "X_train.shape"
      ],
      "metadata": {
        "colab": {
          "base_uri": "https://localhost:8080/"
        },
        "id": "YB6K0Xym-_ul",
        "outputId": "8a241b0e-f89f-455c-a896-9caeb4b5bd36"
      },
      "execution_count": 45,
      "outputs": [
        {
          "output_type": "execute_result",
          "data": {
            "text/plain": [
              "(115386, 778)"
            ]
          },
          "metadata": {},
          "execution_count": 45
        }
      ]
    },
    {
      "cell_type": "code",
      "source": [
        ""
      ],
      "metadata": {
        "id": "mn1sw4L-zq-F"
      },
      "execution_count": 47,
      "outputs": []
    },
    {
      "cell_type": "markdown",
      "metadata": {
        "id": "wThkLZDQLwEi"
      },
      "source": [
        "#### Define the models"
      ]
    },
    {
      "cell_type": "markdown",
      "source": [
        "#### Undercomplete AE"
      ],
      "metadata": {
        "id": "ipNOkla4mWSc"
      }
    },
    {
      "cell_type": "code",
      "source": [
        "device = torch.device(\"cuda:0\" if torch.cuda.is_available() else \"cpu\")"
      ],
      "metadata": {
        "id": "D93zMaA3LW-g"
      },
      "execution_count": 49,
      "outputs": []
    },
    {
      "cell_type": "code",
      "execution_count": 50,
      "metadata": {
        "id": "1pxUNj0TgES6"
      },
      "outputs": [],
      "source": [
        "## Undercomplete\n",
        "\n",
        "class autoencoder(nn.Module):\n",
        "    def __init__(self, input_size, latent_dim):\n",
        "      super(autoencoder, self).__init__()\n",
        "      # Step 1 : Define the encoder \n",
        "      # Step 2 : Define the decoder\n",
        "      # Step 3 : Initialize the weights (optional)\n",
        "      self.encoder = nn.Sequential(\n",
        "          nn.Linear(input_size, input_size//2),\n",
        "          nn.ReLU(True),\n",
        "          nn.Linear(input_size//2, input_size//3),\n",
        "          nn.Linear(input_size//3, input_size//4),\n",
        "          nn.Tanh(),\n",
        "          nn.Linear(input_size//4, latent_dim)\n",
        "      )\n",
        "      self.decoder = nn.Sequential(\n",
        "          nn.Linear(latent_dim, input_size//4),\n",
        "          nn.ReLU(True),\n",
        "          nn.Linear(input_size//4, input_size//3),\n",
        "          nn.Tanh(),\n",
        "          nn.Linear(input_size//3, input_size//2)\n",
        "      )\n",
        "      self.encoder.apply(self.__init_weights)\n",
        "      self.decoder.apply(self.__init_weights)\n",
        "        \n",
        "    def forward(self, x):\n",
        "      # Step 1: Pass the input through encoder to get latent representation\n",
        "      # Step 2: Take latent representation and pass through decoder\n",
        "      x = self.encoder(x)\n",
        "      x = self.decoder(x)\n",
        "      return x\n",
        "        \n",
        "    \n",
        "    def encode(self,input):\n",
        "      #Step 1: Pass the input through the encoder to get latent representation\n",
        "      return self.encoder(input)\n",
        "    \n",
        "    def decode(self, input):\n",
        "      return self.decoder(input)\n",
        "    \n",
        "    def __init_weights(self,m):\n",
        "      #Init the weights (optional)\n",
        "      if type(m) == nn.Linear:\n",
        "          torch.nn.init.xavier_uniform_(m.weight)\n",
        "          m.bias.data.fill_(0.01)"
      ]
    },
    {
      "cell_type": "code",
      "source": [
        "full_data.shape"
      ],
      "metadata": {
        "colab": {
          "base_uri": "https://localhost:8080/"
        },
        "id": "5vFqT_zbD6wr",
        "outputId": "8150b170-ac7f-4344-cd5b-470dc741f8f9"
      },
      "execution_count": 139,
      "outputs": [
        {
          "output_type": "execute_result",
          "data": {
            "text/plain": [
              "(144233, 778)"
            ]
          },
          "metadata": {},
          "execution_count": 139
        }
      ]
    },
    {
      "cell_type": "code",
      "execution_count": 109,
      "metadata": {
        "id": "BHBtiF5fgES7",
        "colab": {
          "base_uri": "https://localhost:8080/"
        },
        "outputId": "c657ee56-e747-4e89-c1bb-1f3d1c79f403"
      },
      "outputs": [
        {
          "output_type": "stream",
          "name": "stdout",
          "text": [
            "autoencoder(\n",
            "  (encoder): Sequential(\n",
            "    (0): Linear(in_features=778, out_features=389, bias=True)\n",
            "    (1): ReLU(inplace=True)\n",
            "    (2): Linear(in_features=389, out_features=259, bias=True)\n",
            "    (3): Linear(in_features=259, out_features=194, bias=True)\n",
            "    (4): Tanh()\n",
            "    (5): Linear(in_features=194, out_features=50, bias=True)\n",
            "  )\n",
            "  (decoder): Sequential(\n",
            "    (0): Linear(in_features=50, out_features=194, bias=True)\n",
            "    (1): ReLU(inplace=True)\n",
            "    (2): Linear(in_features=194, out_features=259, bias=True)\n",
            "    (3): Tanh()\n",
            "    (4): Linear(in_features=259, out_features=389, bias=True)\n",
            "  )\n",
            ")\n"
          ]
        }
      ],
      "source": [
        "# Define training parameters\n",
        "\n",
        "min_lose = 10\n",
        "batchSize = 512\n",
        "learning_rate = 0.001\n",
        "num_epochs = 5\n",
        "latent_size = 50\n",
        "###sample = torch.randn((batchSize,1,64))\n",
        "AE = autoencoder(full_data.shape[1] , latent_size).to(device)\n",
        "print(AE)\n",
        "# print(summary(AE,input_size=(1, 64)))\n",
        "\n",
        "criterion = nn.MSELoss()\n",
        "optimizer = torch.optim.Adam(AE.parameters(),lr=learning_rate)\n",
        "\n",
        "# create DataLoaders\n",
        "dataLoader_train = DataLoader(TensorDataset(torch.Tensor(X_train), torch.Tensor(y_train)), batch_size=batchSize, shuffle=True)\n",
        "dataLoader_test = DataLoader(TensorDataset(torch.Tensor(X_test), torch.Tensor(y_test)), batch_size=batchSize, shuffle=True)"
      ]
    },
    {
      "cell_type": "code",
      "execution_count": 110,
      "metadata": {
        "id": "FFWMqePLgES7",
        "colab": {
          "base_uri": "https://localhost:8080/"
        },
        "outputId": "8ee33757-06f5-463c-ed48-73e8a4b2f494"
      },
      "outputs": [
        {
          "output_type": "stream",
          "name": "stdout",
          "text": [
            "epoch [1/5], train_loss:0.4633\n",
            "epoch [2/5], train_loss:0.3043\n",
            "epoch [3/5], train_loss:0.2612\n",
            "epoch [4/5], train_loss:0.2407\n",
            "epoch [5/5], train_loss:0.2237\n"
          ]
        }
      ],
      "source": [
        "## Trainning the Autoencoder\n",
        "ind = full_data.shape[1]//2\n",
        "for epoch in range(num_epochs):\n",
        "  epoch_loss = 0.0\n",
        "  for X in dataLoader_train:\n",
        "    X = X[0].to(device)\n",
        "    optimizer.zero_grad()\n",
        "\n",
        "    # forward\n",
        "    output = AE(X)\n",
        "    loss = criterion(output * X[:, ind:], X[:, :ind])\n",
        "    #print(output.dtype)\n",
        "    # backward\n",
        "    loss.backward()\n",
        "    optimizer.step()\n",
        "\n",
        "    epoch_loss += loss.item()\n",
        "  # log\n",
        "\n",
        "  print('epoch [{}/{}], train_loss:{:.4f}'.format(epoch + 1, num_epochs, epoch_loss / len(dataLoader_train)))"
      ]
    },
    {
      "cell_type": "code",
      "execution_count": 142,
      "metadata": {
        "id": "dKcuwGy6gES7",
        "colab": {
          "base_uri": "https://localhost:8080/"
        },
        "outputId": "11bd22bd-3bdf-46f7-b703-43c6e0634385"
      },
      "outputs": [
        {
          "output_type": "stream",
          "name": "stdout",
          "text": [
            "epoch [1/5], test_loss:0.1948\n",
            "epoch [2/5], test_loss:0.1947\n",
            "epoch [3/5], test_loss:0.1949\n",
            "epoch [4/5], test_loss:0.1947\n",
            "epoch [5/5], test_loss:0.1954\n"
          ]
        }
      ],
      "source": [
        "# Test \n",
        "min_undercomplete_loss = 10\n",
        "top = AE.state_dict()\n",
        "\n",
        "for epoch in range(num_epochs):\n",
        "  with torch.no_grad():\n",
        "    loss = 0\n",
        "    for X in dataLoader_test:\n",
        "      X = X[0].to(device)\n",
        "      \n",
        "      output = AE(X)\n",
        "      loss += criterion(output * X[:, ind:], X[:, :ind]).item()\n",
        "    res = loss / len(dataLoader_test)\n",
        "    if res < min_undercomplete_loss:\n",
        "        min_undercomplete_loss = res\n",
        "        top = AE.state_dict()\n",
        "    else: \n",
        "        AE.load_state_dict(top)\n",
        "    print('epoch [{}/{}], test_loss:{:.4f}'.format(epoch + 1, num_epochs, res ))"
      ]
    },
    {
      "cell_type": "markdown",
      "source": [
        "#### Regularized AE "
      ],
      "metadata": {
        "id": "dO4NkFdnmNKn"
      }
    },
    {
      "cell_type": "markdown",
      "source": [
        "**Sparse autoencoder**"
      ],
      "metadata": {
        "id": "_y_pVB8mxAFs"
      }
    },
    {
      "cell_type": "code",
      "execution_count": 70,
      "metadata": {
        "id": "igWRw3JqgES8"
      },
      "outputs": [],
      "source": [
        "def regLoss(data):\n",
        "    AE_children = list(AE.children())\n",
        "    l = 0\n",
        "    v = data\n",
        "    for x in range(len(AE_children)):\n",
        "        v = F.relu((AE_children[x](v)))\n",
        "        l += torch.mean(torch.abs(v))\n",
        "    return l"
      ]
    },
    {
      "cell_type": "code",
      "execution_count": 71,
      "metadata": {
        "id": "WDTj3ryXgES8",
        "colab": {
          "base_uri": "https://localhost:8080/"
        },
        "outputId": "a8091406-f1e6-42d8-d78d-0a207dd51304"
      },
      "outputs": [
        {
          "output_type": "stream",
          "name": "stdout",
          "text": [
            "epoch [1/5], train_loss:0.3988\n",
            "epoch [2/5], train_loss:0.2691\n",
            "epoch [3/5], train_loss:0.2376\n",
            "epoch [4/5], train_loss:0.2247\n",
            "epoch [5/5], train_loss:0.2169\n"
          ]
        }
      ],
      "source": [
        "# Train\n",
        "for epoch in range(num_epochs):\n",
        "  epoch_loss = 0.0\n",
        "  for X in dataLoader_train:\n",
        "    X = X[0].to(device)\n",
        "    optimizer.zero_grad()\n",
        "\n",
        "    # forward\n",
        "    output = AE(X)\n",
        "    loss = criterion(output * X[:, ind:], X[:, :ind])\n",
        "    l1_loss = regLoss(X)\n",
        "    loss = loss +  l1_loss\n",
        "    #print(output.dtype)\n",
        "    # backward\n",
        "    loss.backward()\n",
        "    optimizer.step()\n",
        "\n",
        "    epoch_loss += loss.item()\n",
        "  # log\n",
        "  print('epoch [{}/{}], train_loss:{:.4f}'.format(epoch + 1, num_epochs, epoch_loss / len(dataLoader_train)))"
      ]
    },
    {
      "cell_type": "code",
      "execution_count": 116,
      "metadata": {
        "id": "ekwImrhdgES9",
        "colab": {
          "base_uri": "https://localhost:8080/"
        },
        "outputId": "f8d861ad-236d-46d7-f3c8-9453ba43eecb"
      },
      "outputs": [
        {
          "output_type": "stream",
          "name": "stdout",
          "text": [
            "epoch [1/5], test_loss:0.1950\n",
            "epoch [2/5], test_loss:0.1950\n",
            "epoch [3/5], test_loss:0.1957\n",
            "epoch [4/5], test_loss:0.1949\n",
            "epoch [5/5], test_loss:0.1948\n"
          ]
        }
      ],
      "source": [
        "# Test\n",
        "min_reg_ae = 10\n",
        "for epoch in range(num_epochs):\n",
        "  with torch.no_grad():\n",
        "    loss = 0\n",
        "    for X in dataLoader_test:\n",
        "      X = X[0].to(device)\n",
        "      \n",
        "      output = AE(X)\n",
        "      loss += criterion(output * X[:, ind:], X[:, :ind]).item()\n",
        "    \n",
        "    print('epoch [{}/{}], test_loss:{:.4f}'.format(epoch + 1, num_epochs, loss / len(dataLoader_test)))\n",
        "    if (loss / len(dataLoader_test)) < min_reg_ae:\n",
        "      min_reg_ae = (loss / len(dataLoader_test))"
      ]
    },
    {
      "cell_type": "markdown",
      "source": [
        "#### Variational AE "
      ],
      "metadata": {
        "id": "fw7_yeB4yZ8j"
      }
    },
    {
      "cell_type": "code",
      "execution_count": 105,
      "metadata": {
        "id": "4MfpfuIKgES_"
      },
      "outputs": [],
      "source": [
        "# VAE model\n",
        "class VAE(nn.Module):\n",
        "    def __init__(self, input_dim= full_data.shape[1], h_dim= 389, z_dim=5):\n",
        "        super(VAE, self).__init__()\n",
        "        self.fc1 = nn.Linear(input_dim, h_dim)\n",
        "        self.fc2 = nn.Linear(h_dim, z_dim)\n",
        "        self.fc3 = nn.Linear(h_dim, z_dim)\n",
        "        self.fc4 = nn.Linear(z_dim, h_dim)\n",
        "        self.fc5 = nn.Linear(h_dim, input_dim//2)\n",
        "        \n",
        "    def encode(self, x):\n",
        "        h = F.relu(self.fc1(x))\n",
        "        return self.fc2(h), self.fc3(h)\n",
        "    \n",
        "    def reparameterize(self, mu, log_var):\n",
        "        std = torch.exp(log_var/2)\n",
        "        eps = torch.randn_like(std)\n",
        "        return mu + eps * std\n",
        "\n",
        "    def decode(self, z):\n",
        "        h = F.relu(self.fc4(z))\n",
        "        return self.fc5(h)\n",
        "    \n",
        "    def forward(self, x):\n",
        "        mu, log_var = self.encode(x)\n",
        "        z = self.reparameterize(mu, log_var)\n",
        "        x_reconst = self.decode(z)\n",
        "        return x_reconst, mu, log_var\n",
        "\n",
        "model = VAE().to(device)"
      ]
    },
    {
      "cell_type": "code",
      "source": [
        "print(model)\n"
      ],
      "metadata": {
        "colab": {
          "base_uri": "https://localhost:8080/"
        },
        "id": "GCJKkrPT3k2K",
        "outputId": "15f3a1d6-f4de-4a0e-aea0-1e842288f8af"
      },
      "execution_count": 106,
      "outputs": [
        {
          "output_type": "stream",
          "name": "stdout",
          "text": [
            "VAE(\n",
            "  (fc1): Linear(in_features=778, out_features=389, bias=True)\n",
            "  (fc2): Linear(in_features=389, out_features=5, bias=True)\n",
            "  (fc3): Linear(in_features=389, out_features=5, bias=True)\n",
            "  (fc4): Linear(in_features=5, out_features=389, bias=True)\n",
            "  (fc5): Linear(in_features=389, out_features=389, bias=True)\n",
            ")\n"
          ]
        }
      ]
    },
    {
      "cell_type": "code",
      "execution_count": 107,
      "metadata": {
        "id": "TRl4BpvQgES_",
        "colab": {
          "base_uri": "https://localhost:8080/"
        },
        "outputId": "7fbfb94b-20a5-4b4f-d64a-a6cb5a0c419e"
      },
      "outputs": [
        {
          "output_type": "stream",
          "name": "stdout",
          "text": [
            "epoch [1/5], train_loss:41.6853\n",
            "epoch [2/5], train_loss:45.6764\n",
            "epoch [3/5], train_loss:66.9513\n",
            "epoch [4/5], train_loss:62.2572\n",
            "epoch [5/5], train_loss:53.7691\n"
          ]
        }
      ],
      "source": [
        "# Train\n",
        "for epoch in range(num_epochs):\n",
        "  epoch_loss = 0.0\n",
        "  for X in dataLoader_train:\n",
        "    X = X[0].to(device)\n",
        "    optimizer.zero_grad()\n",
        "\n",
        "    # forward\n",
        "    x_reconst, mu, log_var = model(X)\n",
        "    loss = criterion(x_reconst*X[:, ind:], X[:, :ind])\n",
        "    kl_div = - 0.5 * torch.sum(1 + log_var - mu.pow(2) - log_var.exp())\n",
        "    loss += kl_div\n",
        "\n",
        "    #print(output.dtype)\n",
        "    # backward\n",
        "    loss.backward()\n",
        "    optimizer.step()\n",
        "\n",
        "    epoch_loss += loss.item()\n",
        "  # log\n",
        "  print('epoch [{}/{}], train_loss:{:.4f}'.format(epoch + 1, num_epochs, loss.item()))"
      ]
    },
    {
      "cell_type": "code",
      "execution_count": 118,
      "metadata": {
        "id": "97ER0q5EgETA",
        "colab": {
          "base_uri": "https://localhost:8080/"
        },
        "outputId": "6f7642a0-8643-42a0-be1f-8abfc20f467e"
      },
      "outputs": [
        {
          "output_type": "stream",
          "name": "stdout",
          "text": [
            "epoch [1/5], test_loss:0.9690\n",
            "epoch [2/5], test_loss:0.9689\n",
            "epoch [3/5], test_loss:0.9650\n",
            "epoch [4/5], test_loss:0.9667\n",
            "epoch [5/5], test_loss:0.9721\n"
          ]
        }
      ],
      "source": [
        "# Test\n",
        "min_variational_ae = 10\n",
        "for epoch in range(num_epochs):\n",
        "  with torch.no_grad():\n",
        "    loss = 0\n",
        "    for X in dataLoader_test:\n",
        "      X = X[0].to(device)\n",
        "      \n",
        "      x_reconst, mu, log_var = model(X)\n",
        "      loss += criterion(x_reconst * X[:, ind:], X[:, :ind]).item()\n",
        "    \n",
        "    print('epoch [{}/{}], test_loss:{:.4f}'.format(epoch + 1, num_epochs, loss / len(dataLoader_test)))\n",
        "    if (loss / len(dataLoader_test)) < min_variational_ae:\n",
        "      min_variational_ae = (loss / len(dataLoader_test))"
      ]
    },
    {
      "cell_type": "markdown",
      "source": [
        "### Perfomence of autoencoder"
      ],
      "metadata": {
        "id": "L5dKtWVcE6X1"
      }
    },
    {
      "cell_type": "code",
      "execution_count": 121,
      "metadata": {
        "id": "HqfbYVzWgETA",
        "colab": {
          "base_uri": "https://localhost:8080/"
        },
        "outputId": "5302bd67-085e-4fea-faf3-f8323967560f"
      },
      "outputs": [
        {
          "output_type": "stream",
          "name": "stdout",
          "text": [
            "Undercomplete AE >> Best loss  :: 0.19475951215677095\n",
            "Regularized  AE >> Best loss  :: 0.19475986481758586\n",
            "Variational AE >> Best loss  :: 0.965039593085908\n"
          ]
        }
      ],
      "source": [
        "print(\"Undercomplete AE >> Best loss  ::\", min_undercomplete_loss)\n",
        "print(\"Regularized  AE >> Best loss  ::\", min_reg_ae)\n",
        "print(\"Variational AE >> Best loss  ::\", min_variational_ae)"
      ]
    },
    {
      "cell_type": "markdown",
      "source": [
        "####  Compare with statistical approaches"
      ],
      "metadata": {
        "id": "qs3XWqqTMlDK"
      }
    },
    {
      "cell_type": "code",
      "execution_count": 135,
      "metadata": {
        "id": "GJ-7AT_tgETA"
      },
      "outputs": [],
      "source": [
        "# Imputing the data with mean \n",
        "\n",
        "def generate_data(data, indicator):\n",
        "  XTrain =  YTrain = mask = []\n",
        "  for x, t in data:\n",
        "      x = x.cpu().detach().numpy()\n",
        "      XTrain.append(x[:, :indicator])\n",
        "      mask.append(x[:, indicator:])\n",
        "      YTrain.append(t.cpu().detach().numpy())\n",
        "  XTrain = np.concatenate(XTrain, axis=0)\n",
        "  mask = np.concatenate(mask, axis=0)\n",
        "  YTrain = np.concatenate(YTrain, axis=0)\n",
        "  XTrain = np.where(mask < 1, np.ma.array(XTrain, mask=(mask < 1)).mean(axis=0), XTrain)\n",
        "  return XTrain, YTrain\n",
        "\n",
        "\n",
        "train_x, train_y = generate_data(dataLoader_train, ind)\n",
        "\n",
        "\n",
        "\n"
      ]
    },
    {
      "cell_type": "code",
      "execution_count": null,
      "metadata": {
        "id": "Wp4bXk9rgETA"
      },
      "outputs": [],
      "source": [
        ""
      ]
    },
    {
      "cell_type": "code",
      "execution_count": null,
      "metadata": {
        "id": "62E_tWHYgETA"
      },
      "outputs": [],
      "source": [
        ""
      ]
    },
    {
      "cell_type": "code",
      "execution_count": null,
      "metadata": {
        "id": "3c94ldExgETA"
      },
      "outputs": [],
      "source": [
        ""
      ]
    },
    {
      "cell_type": "code",
      "execution_count": null,
      "metadata": {
        "id": "mj0B4ubogETA"
      },
      "outputs": [],
      "source": [
        ""
      ]
    },
    {
      "cell_type": "code",
      "execution_count": null,
      "metadata": {
        "id": "MPLwqfGBgETB"
      },
      "outputs": [],
      "source": [
        ""
      ]
    },
    {
      "cell_type": "markdown",
      "metadata": {
        "id": "8bE1Jo3ZZc4i"
      },
      "source": [
        "# Task 2 "
      ]
    },
    {
      "cell_type": "code",
      "execution_count": null,
      "metadata": {
        "id": "OTQvatGWZetZ"
      },
      "outputs": [],
      "source": [
        ""
      ]
    },
    {
      "cell_type": "code",
      "execution_count": null,
      "metadata": {
        "id": "gw75y4TFZiFP"
      },
      "outputs": [],
      "source": [
        ""
      ]
    },
    {
      "cell_type": "code",
      "execution_count": null,
      "metadata": {
        "id": "36wQ9XfkZiHz"
      },
      "outputs": [],
      "source": [
        ""
      ]
    },
    {
      "cell_type": "code",
      "execution_count": null,
      "metadata": {
        "id": "oBcPBWkwZiKg"
      },
      "outputs": [],
      "source": [
        ""
      ]
    },
    {
      "cell_type": "code",
      "execution_count": null,
      "metadata": {
        "id": "Yad_2wImZiNZ"
      },
      "outputs": [],
      "source": [
        ""
      ]
    },
    {
      "cell_type": "code",
      "execution_count": null,
      "metadata": {
        "id": "RBBLdAU_ZiP1"
      },
      "outputs": [],
      "source": [
        ""
      ]
    },
    {
      "cell_type": "code",
      "execution_count": null,
      "metadata": {
        "id": "TqPx5zR_ZiSH"
      },
      "outputs": [],
      "source": [
        ""
      ]
    },
    {
      "cell_type": "code",
      "execution_count": null,
      "metadata": {
        "id": "wgrwanHDZiU5"
      },
      "outputs": [],
      "source": [
        ""
      ]
    },
    {
      "cell_type": "code",
      "execution_count": null,
      "metadata": {
        "id": "hZCCCeNMZiYb"
      },
      "outputs": [],
      "source": [
        ""
      ]
    },
    {
      "cell_type": "code",
      "execution_count": null,
      "metadata": {
        "id": "a6MVRhCmZibR"
      },
      "outputs": [],
      "source": [
        ""
      ]
    },
    {
      "cell_type": "code",
      "execution_count": null,
      "metadata": {
        "id": "OiAVEGL4Zidn"
      },
      "outputs": [],
      "source": [
        ""
      ]
    },
    {
      "cell_type": "code",
      "execution_count": null,
      "metadata": {
        "id": "Mb5g5J6rZigC"
      },
      "outputs": [],
      "source": [
        ""
      ]
    },
    {
      "cell_type": "code",
      "execution_count": null,
      "metadata": {
        "id": "CRN9vsJiZiiQ"
      },
      "outputs": [],
      "source": [
        ""
      ]
    },
    {
      "cell_type": "code",
      "execution_count": null,
      "metadata": {
        "id": "lOpTZhVpZik5"
      },
      "outputs": [],
      "source": [
        ""
      ]
    },
    {
      "cell_type": "code",
      "execution_count": null,
      "metadata": {
        "id": "ARB8ky03Zind"
      },
      "outputs": [],
      "source": [
        ""
      ]
    },
    {
      "cell_type": "code",
      "execution_count": null,
      "metadata": {
        "id": "Xi-iIswXZiqi"
      },
      "outputs": [],
      "source": [
        ""
      ]
    }
  ],
  "metadata": {
    "colab": {
      "collapsed_sections": [],
      "name": "AML-Task1.ipynb",
      "provenance": []
    },
    "kernelspec": {
      "display_name": "Python 3 (ipykernel)",
      "language": "python",
      "name": "python3"
    },
    "language_info": {
      "codemirror_mode": {
        "name": "ipython",
        "version": 3
      },
      "file_extension": ".py",
      "mimetype": "text/x-python",
      "name": "python",
      "nbconvert_exporter": "python",
      "pygments_lexer": "ipython3",
      "version": "3.9.7"
    }
  },
  "nbformat": 4,
  "nbformat_minor": 0
}